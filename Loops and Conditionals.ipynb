{
 "cells": [
  {
   "cell_type": "code",
   "execution_count": 17,
   "id": "cdd04757",
   "metadata": {},
   "outputs": [
    {
     "name": "stdout",
     "output_type": "stream",
     "text": [
      "just right!\n"
     ]
    }
   ],
   "source": [
    "#4.1:\n",
    "secret = 5\n",
    "guess = 5\n",
    "\n",
    "if (guess > secret):\n",
    "    print(\"too high!\")\n",
    "elif (guess < secret):\n",
    "    print(\"too low!\")\n",
    "else:\n",
    "    print(\"just right!\")"
   ]
  },
  {
   "cell_type": "code",
   "execution_count": 16,
   "id": "5597cece",
   "metadata": {},
   "outputs": [
    {
     "name": "stdout",
     "output_type": "stream",
     "text": [
      "Watermelon.\n"
     ]
    }
   ],
   "source": [
    "#4.2:\n",
    "small = False\n",
    "green = True\n",
    "\n",
    "if green:\n",
    "    if small:\n",
    "        print(\"Pea\")\n",
    "    else:\n",
    "        print(\"Watermelon.\")\n",
    "else:\n",
    "    if small:\n",
    "        print(\"Cherry.\")\n",
    "    else:\n",
    "        print(\"Pumpkin.\")"
   ]
  },
  {
   "cell_type": "code",
   "execution_count": 17,
   "id": "c0cd7c62",
   "metadata": {},
   "outputs": [
    {
     "name": "stdout",
     "output_type": "stream",
     "text": [
      "3\n",
      "2\n",
      "1\n",
      "0\n"
     ]
    }
   ],
   "source": [
    "#6.1:\n",
    "number_list = [3, 2, 1, 0]\n",
    "for i in range(len(number_list)):\n",
    "    print(number_list[i])"
   ]
  },
  {
   "cell_type": "code",
   "execution_count": 13,
   "id": "d32d6812",
   "metadata": {},
   "outputs": [
    {
     "name": "stdout",
     "output_type": "stream",
     "text": [
      "too low.\n",
      "too low.\n",
      "too low.\n",
      "too low.\n",
      "too low.\n",
      "too low.\n",
      "found it!\n"
     ]
    }
   ],
   "source": [
    "#6.2:\n",
    "guess_me = 7\n",
    "number = 1\n",
    "\n",
    "while (number <= guess_me):\n",
    "    if (number < guess_me):\n",
    "        print(\"too low.\")\n",
    "    elif (number == guess_me):\n",
    "        print(\"found it!\")\n",
    "        break\n",
    "    number += 1\n",
    "else:\n",
    "    print(\"oops.\")"
   ]
  },
  {
   "cell_type": "code",
   "execution_count": 14,
   "id": "0ef8c35f",
   "metadata": {},
   "outputs": [
    {
     "name": "stdout",
     "output_type": "stream",
     "text": [
      "too low\n",
      "too low\n",
      "too low\n",
      "too low\n",
      "too low\n",
      "found it!\n"
     ]
    }
   ],
   "source": [
    "#6.3:\n",
    "\n",
    "guess_me = 5\n",
    "\n",
    "for number in range(10):\n",
    "    if (number < guess_me):\n",
    "        print(\"too low\")\n",
    "    elif (number == guess_me):\n",
    "        print(\"found it!\")\n",
    "        break\n",
    "    else:\n",
    "        print(\"oops\")"
   ]
  },
  {
   "cell_type": "code",
   "execution_count": null,
   "id": "3f3c5162",
   "metadata": {},
   "outputs": [],
   "source": []
  }
 ],
 "metadata": {
  "kernelspec": {
   "display_name": "Python 3 (ipykernel)",
   "language": "python",
   "name": "python3"
  },
  "language_info": {
   "codemirror_mode": {
    "name": "ipython",
    "version": 3
   },
   "file_extension": ".py",
   "mimetype": "text/x-python",
   "name": "python",
   "nbconvert_exporter": "python",
   "pygments_lexer": "ipython3",
   "version": "3.9.13"
  }
 },
 "nbformat": 4,
 "nbformat_minor": 5
}
